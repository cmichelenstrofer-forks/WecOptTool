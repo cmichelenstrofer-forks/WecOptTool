{
 "cells": [
  {
   "cell_type": "markdown",
   "metadata": {},
   "source": [
    "# ROL - WaveBot\n"
   ]
  },
  {
   "cell_type": "code",
   "execution_count": 1,
   "metadata": {},
   "outputs": [],
   "source": [
    "import autograd.numpy as np\n",
    "import capytaine as cpy\n",
    "import matplotlib.pyplot as plt\n",
    "\n",
    "import wecopttool as wot\n",
    "\n",
    "## set colorblind-friendly colormap for plots\n",
    "plt.style.use('tableau-colorblind10')"
   ]
  },
  {
   "cell_type": "markdown",
   "metadata": {},
   "source": [
    "### Waves"
   ]
  },
  {
   "cell_type": "code",
   "execution_count": 2,
   "metadata": {},
   "outputs": [],
   "source": [
    "wavefreq = 0.3 # Hz\n",
    "f1 = wavefreq\n",
    "nfreq = 10\n",
    "freq = wot.frequency(f1, nfreq, False)\n",
    "\n",
    "amplitude = 0.0625 # m\n",
    "phase = 30 # degrees\n",
    "wavedir = 0 # degrees\n",
    "\n",
    "waves = wot.waves.regular_wave(f1, nfreq, wavefreq, amplitude, phase, wavedir)"
   ]
  },
  {
   "cell_type": "markdown",
   "metadata": {},
   "source": [
    "### WEC object"
   ]
  },
  {
   "cell_type": "code",
   "execution_count": 3,
   "metadata": {},
   "outputs": [
    {
     "name": "stderr",
     "output_type": "stream",
     "text": [
      "WARNING:wecopttool.core:Using the geometric centroid as the center of gravity (COG).\n"
     ]
    },
    {
     "name": "stdout",
     "output_type": "stream",
     "text": [
      "Info    : [ 90%] Union - Splitting solids                                                                                          \r"
     ]
    },
    {
     "data": {
      "text/html": [
       "<pre style=\"white-space:pre;overflow-x:auto;line-height:normal;font-family:Menlo,'DejaVu Sans Mono',consolas,'Courier New',monospace\"><span style=\"color: #7fbfbf; text-decoration-color: #7fbfbf\">[15:36:35] </span><span style=\"color: #800000; text-decoration-color: #800000\">WARNING </span> Using the geometric centroid as the center of gravity <span style=\"font-weight: bold\">(</span>COG<span style=\"font-weight: bold\">)</span>.                                   \n",
       "</pre>\n"
      ],
      "text/plain": [
       "\u001b[2;36m[15:36:35]\u001b[0m\u001b[2;36m \u001b[0m\u001b[31mWARNING \u001b[0m Using the geometric centroid as the center of gravity \u001b[1m(\u001b[0mCOG\u001b[1m)\u001b[0m.                                   \n"
      ]
     },
     "metadata": {},
     "output_type": "display_data"
    },
    {
     "name": "stderr",
     "output_type": "stream",
     "text": [
      "WARNING:wecopttool.core:Using the center of gravity (COG) as the rotation center for hydrostatics.\n"
     ]
    },
    {
     "data": {
      "text/html": [
       "<pre style=\"white-space:pre;overflow-x:auto;line-height:normal;font-family:Menlo,'DejaVu Sans Mono',consolas,'Courier New',monospace\"><span style=\"color: #7fbfbf; text-decoration-color: #7fbfbf\">           </span><span style=\"color: #800000; text-decoration-color: #800000\">WARNING </span> Using the center of gravity <span style=\"font-weight: bold\">(</span>COG<span style=\"font-weight: bold\">)</span> as the rotation center for hydrostatics.                     \n",
       "</pre>\n"
      ],
      "text/plain": [
       "\u001b[2;36m          \u001b[0m\u001b[2;36m \u001b[0m\u001b[31mWARNING \u001b[0m Using the center of gravity \u001b[1m(\u001b[0mCOG\u001b[1m)\u001b[0m as the rotation center for hydrostatics.                     \n"
      ]
     },
     "metadata": {},
     "output_type": "display_data"
    },
    {
     "name": "stderr",
     "output_type": "stream",
     "text": [
      "WARNING:capytaine.bem.solver:Mesh resolution for 12 problems:\n",
      "The resolution of the mesh might be insufficient for omega ranging from 9.425 to 18.850.\n",
      "This warning appears when the largest panel of this mesh has radius > wavelength/8.\n"
     ]
    },
    {
     "data": {
      "text/html": [
       "<pre style=\"white-space:pre;overflow-x:auto;line-height:normal;font-family:Menlo,'DejaVu Sans Mono',consolas,'Courier New',monospace\"><span style=\"color: #7fbfbf; text-decoration-color: #7fbfbf\">           </span><span style=\"color: #800000; text-decoration-color: #800000\">WARNING </span> Mesh resolution for <span style=\"color: #008080; text-decoration-color: #008080; font-weight: bold\">12</span> problems:                                                               \n",
       "<span style=\"color: #7fbfbf; text-decoration-color: #7fbfbf\">           </span>         The resolution of the mesh might be insufficient for omega ranging from <span style=\"color: #008080; text-decoration-color: #008080; font-weight: bold\">9.425</span> to <span style=\"color: #008080; text-decoration-color: #008080; font-weight: bold\">18.850</span>.       \n",
       "<span style=\"color: #7fbfbf; text-decoration-color: #7fbfbf\">           </span>         This warning appears when the largest panel of this mesh has radius &gt; wavelength/<span style=\"color: #008080; text-decoration-color: #008080; font-weight: bold\">8</span>.            \n",
       "</pre>\n"
      ],
      "text/plain": [
       "\u001b[2;36m          \u001b[0m\u001b[2;36m \u001b[0m\u001b[31mWARNING \u001b[0m Mesh resolution for \u001b[1;36m12\u001b[0m problems:                                                               \n",
       "\u001b[2;36m           \u001b[0m         The resolution of the mesh might be insufficient for omega ranging from \u001b[1;36m9.425\u001b[0m to \u001b[1;36m18.850\u001b[0m.       \n",
       "\u001b[2;36m           \u001b[0m         This warning appears when the largest panel of this mesh has radius > wavelength/\u001b[1;36m8\u001b[0m.            \n"
      ]
     },
     "metadata": {},
     "output_type": "display_data"
    },
    {
     "data": {
      "text/html": [
       "<pre style=\"white-space:pre;overflow-x:auto;line-height:normal;font-family:Menlo,'DejaVu Sans Mono',consolas,'Courier New',monospace\">/Users/cmichel/miniforge3/envs/rol/lib/python3.11/site-packages/rich/live.py:231: UserWarning: install \"ipywidgets\"\n",
       "for Jupyter support\n",
       "  warnings.warn('install \"ipywidgets\" for Jupyter support')\n",
       "</pre>\n"
      ],
      "text/plain": [
       "/Users/cmichel/miniforge3/envs/rol/lib/python3.11/site-packages/rich/live.py:231: UserWarning: install \"ipywidgets\"\n",
       "for Jupyter support\n",
       "  warnings.warn('install \"ipywidgets\" for Jupyter support')\n"
      ]
     },
     "metadata": {},
     "output_type": "display_data"
    },
    {
     "data": {
      "text/html": [
       "<pre style=\"white-space:pre;overflow-x:auto;line-height:normal;font-family:Menlo,'DejaVu Sans Mono',consolas,'Courier New',monospace\"></pre>\n"
      ],
      "text/plain": []
     },
     "metadata": {},
     "output_type": "display_data"
    },
    {
     "data": {
      "text/html": [
       "<pre style=\"white-space:pre;overflow-x:auto;line-height:normal;font-family:Menlo,'DejaVu Sans Mono',consolas,'Courier New',monospace\">\n",
       "</pre>\n"
      ],
      "text/plain": [
       "\n"
      ]
     },
     "metadata": {},
     "output_type": "display_data"
    },
    {
     "name": "stderr",
     "output_type": "stream",
     "text": [
      "WARNING:wecopttool.core:Linear damping for DOF \"Heave\" has negative or close to zero terms. Shifting up damping terms [5 7 8 9] to a minimum of 1e-06 N/(m/s)\n"
     ]
    },
    {
     "data": {
      "text/html": [
       "<pre style=\"white-space:pre;overflow-x:auto;line-height:normal;font-family:Menlo,'DejaVu Sans Mono',consolas,'Courier New',monospace\"><span style=\"color: #7fbfbf; text-decoration-color: #7fbfbf\">[15:36:39] </span><span style=\"color: #800000; text-decoration-color: #800000\">WARNING </span> Linear damping for DOF <span style=\"color: #008000; text-decoration-color: #008000\">\"Heave\"</span> has negative or close to zero terms. Shifting up damping terms  \n",
       "<span style=\"color: #7fbfbf; text-decoration-color: #7fbfbf\">           </span>         <span style=\"font-weight: bold\">[</span><span style=\"color: #008080; text-decoration-color: #008080; font-weight: bold\">5</span> <span style=\"color: #008080; text-decoration-color: #008080; font-weight: bold\">7</span> <span style=\"color: #008080; text-decoration-color: #008080; font-weight: bold\">8</span> <span style=\"color: #008080; text-decoration-color: #008080; font-weight: bold\">9</span><span style=\"font-weight: bold\">]</span> to a minimum of <span style=\"color: #008080; text-decoration-color: #008080; font-weight: bold\">1e-06</span> N/<span style=\"font-weight: bold\">(</span>m/s<span style=\"font-weight: bold\">)</span>                                                        \n",
       "</pre>\n"
      ],
      "text/plain": [
       "\u001b[2;36m[15:36:39]\u001b[0m\u001b[2;36m \u001b[0m\u001b[31mWARNING \u001b[0m Linear damping for DOF \u001b[32m\"Heave\"\u001b[0m has negative or close to zero terms. Shifting up damping terms  \n",
       "\u001b[2;36m           \u001b[0m         \u001b[1m[\u001b[0m\u001b[1;36m5\u001b[0m \u001b[1;36m7\u001b[0m \u001b[1;36m8\u001b[0m \u001b[1;36m9\u001b[0m\u001b[1m]\u001b[0m to a minimum of \u001b[1;36m1e-06\u001b[0m N/\u001b[1m(\u001b[0mm/s\u001b[1m)\u001b[0m                                                        \n"
      ]
     },
     "metadata": {},
     "output_type": "display_data"
    }
   ],
   "source": [
    "wb = wot.geom.WaveBot()  # use standard dimensions\n",
    "mesh_size_factor = 0.5 # 1.0 for default, smaller to refine mesh\n",
    "mesh = wb.mesh(mesh_size_factor)\n",
    "fb = cpy.FloatingBody.from_meshio(mesh, name=\"WaveBot\")\n",
    "\n",
    "fb.add_translation_dof(name=\"Heave\")\n",
    "ndof = fb.nb_dofs\n",
    "\n",
    "bem_data = wot.run_bem(fb, freq)\n",
    "\n",
    "name = [\"PTO_Heave\",]\n",
    "kinematics = np.eye(ndof)\n",
    "controller = None\n",
    "loss = None\n",
    "pto_impedance = None\n",
    "pto = wot.pto.PTO(ndof, kinematics, controller, pto_impedance, loss, name)\n",
    "\n",
    "f_add = {'PTO': pto.force_on_wec}\n",
    "\n",
    "wec = wot.WEC.from_bem(bem_data, f_add=f_add)"
   ]
  },
  {
   "cell_type": "markdown",
   "metadata": {},
   "source": [
    "### Objective function"
   ]
  },
  {
   "cell_type": "code",
   "execution_count": 4,
   "metadata": {},
   "outputs": [],
   "source": [
    "obj_fun = pto.mechanical_average_power\n",
    "nstate_opt = 2*nfreq"
   ]
  },
  {
   "cell_type": "markdown",
   "metadata": {},
   "source": [
    "### Solve"
   ]
  },
  {
   "cell_type": "code",
   "execution_count": 5,
   "metadata": {},
   "outputs": [
    {
     "name": "stderr",
     "output_type": "stream",
     "text": [
      "/Users/cmichel/repos/WecOptTool/wecopttool/core.py:712: UserWarning: The `squeeze` kwarg to GroupBy is being removed.Pass .groupby(..., squeeze=False) to disable squeezing, which is the new default, and to silence this warning.\n",
      "  for realization, wave in waves.groupby('realization'):\n"
     ]
    },
    {
     "name": "stdout",
     "output_type": "stream",
     "text": [
      "\n",
      "  Check primal optimization space vector\n",
      "\n",
      "********** Begin verification of linear algebra. *********************************************\n",
      "\n",
      "Commutativity of addition. Consistency error: >>>>>>>>>>>>>>>>>>>>>>>>>>>>>>>>>>>>>>>>>>>>>>>> 0.000000000000e+00\n",
      "Associativity of addition. Consistency error: >>>>>>>>>>>>>>>>>>>>>>>>>>>>>>>>>>>>>>>>>>>>>>>> 0.000000000000e+00\n",
      "Identity element of addition. Consistency error: >>>>>>>>>>>>>>>>>>>>>>>>>>>>>>>>>>>>>>>>>>>>> 0.000000000000e+00\n",
      "Inverse elements of addition. Consistency error: >>>>>>>>>>>>>>>>>>>>>>>>>>>>>>>>>>>>>>>>>>>>> 0.000000000000e+00\n",
      "Identity element of scalar multiplication. Consistency error: >>>>>>>>>>>>>>>>>>>>>>>>>>>>>>>> 0.000000000000e+00\n",
      "Consistency of scalar multiplication with field multiplication. Consistency error: >>>>>>>>>>> 0.000000000000e+00\n",
      "Distributivity of scalar multiplication with respect to field addition. Consistency error: >>> 0.000000000000e+00\n",
      "Distributivity of scalar multiplication with respect to vector addition. Consistency error: >> 0.000000000000e+00\n",
      "Commutativity of dot (inner) product over the field of reals. Consistency error: >>>>>>>>>>>>> 0.000000000000e+00\n",
      "Additivity of dot (inner) product. Consistency error: >>>>>>>>>>>>>>>>>>>>>>>>>>>>>>>>>>>>>>>> 0.000000000000e+00\n",
      "Consistency of scalar multiplication and norm. Consistency error: >>>>>>>>>>>>>>>>>>>>>>>>>>>> 0.000000000000e+00\n",
      "Reflexivity. Consistency error: >>>>>>>>>>>>>>>>>>>>>>>>>>>>>>>>>>>>>>>>>>>>>>>>>>>>>>>>>>>>>> 0.000000000000e+00\n",
      "Consistency of apply and dual:>>>>>>>>>>>>>>>>>>>>>>>>>>>>>>>>>>>>>>>>>>>>>>>>>>>>>>>>>>>>>>>> 0.000000000000e+00\n",
      "\n",
      "********** End verification of linear algebra. ***********************************************\n",
      "\n",
      "\n",
      "  Check dual optimization space vector\n",
      "\n",
      "********** Begin verification of linear algebra. *********************************************\n",
      "\n",
      "Commutativity of addition. Consistency error: >>>>>>>>>>>>>>>>>>>>>>>>>>>>>>>>>>>>>>>>>>>>>>>> 0.000000000000e+00\n",
      "Associativity of addition. Consistency error: >>>>>>>>>>>>>>>>>>>>>>>>>>>>>>>>>>>>>>>>>>>>>>>> 0.000000000000e+00\n",
      "Identity element of addition. Consistency error: >>>>>>>>>>>>>>>>>>>>>>>>>>>>>>>>>>>>>>>>>>>>> 0.000000000000e+00\n",
      "Inverse elements of addition. Consistency error: >>>>>>>>>>>>>>>>>>>>>>>>>>>>>>>>>>>>>>>>>>>>> 0.000000000000e+00\n",
      "Identity element of scalar multiplication. Consistency error: >>>>>>>>>>>>>>>>>>>>>>>>>>>>>>>> 0.000000000000e+00\n",
      "Consistency of scalar multiplication with field multiplication. Consistency error: >>>>>>>>>>> 0.000000000000e+00\n",
      "Distributivity of scalar multiplication with respect to field addition. Consistency error: >>> 0.000000000000e+00\n",
      "Distributivity of scalar multiplication with respect to vector addition. Consistency error: >> 0.000000000000e+00\n",
      "Commutativity of dot (inner) product over the field of reals. Consistency error: >>>>>>>>>>>>> 0.000000000000e+00\n",
      "Additivity of dot (inner) product. Consistency error: >>>>>>>>>>>>>>>>>>>>>>>>>>>>>>>>>>>>>>>> 0.000000000000e+00\n",
      "Consistency of scalar multiplication and norm. Consistency error: >>>>>>>>>>>>>>>>>>>>>>>>>>>> 0.000000000000e+00\n",
      "Reflexivity. Consistency error: >>>>>>>>>>>>>>>>>>>>>>>>>>>>>>>>>>>>>>>>>>>>>>>>>>>>>>>>>>>>>> 0.000000000000e+00\n",
      "Consistency of apply and dual:>>>>>>>>>>>>>>>>>>>>>>>>>>>>>>>>>>>>>>>>>>>>>>>>>>>>>>>>>>>>>>>> 0.000000000000e+00\n",
      "\n",
      "********** End verification of linear algebra. ***********************************************\n",
      "\n",
      "\n",
      "  dynamics: Check primal constraint space vector\n",
      "\n",
      "********** Begin verification of linear algebra. *********************************************\n",
      "\n",
      "Commutativity of addition. Consistency error: >>>>>>>>>>>>>>>>>>>>>>>>>>>>>>>>>>>>>>>>>>>>>>>> 0.000000000000e+00\n",
      "Associativity of addition. Consistency error: >>>>>>>>>>>>>>>>>>>>>>>>>>>>>>>>>>>>>>>>>>>>>>>> 0.000000000000e+00\n",
      "Identity element of addition. Consistency error: >>>>>>>>>>>>>>>>>>>>>>>>>>>>>>>>>>>>>>>>>>>>> 0.000000000000e+00\n",
      "Inverse elements of addition. Consistency error: >>>>>>>>>>>>>>>>>>>>>>>>>>>>>>>>>>>>>>>>>>>>> 0.000000000000e+00\n",
      "Identity element of scalar multiplication. Consistency error: >>>>>>>>>>>>>>>>>>>>>>>>>>>>>>>> 0.000000000000e+00\n",
      "Consistency of scalar multiplication with field multiplication. Consistency error: >>>>>>>>>>> 0.000000000000e+00\n",
      "Distributivity of scalar multiplication with respect to field addition. Consistency error: >>> 0.000000000000e+00\n",
      "Distributivity of scalar multiplication with respect to vector addition. Consistency error: >> 0.000000000000e+00\n",
      "Commutativity of dot (inner) product over the field of reals. Consistency error: >>>>>>>>>>>>> 0.000000000000e+00\n",
      "Additivity of dot (inner) product. Consistency error: >>>>>>>>>>>>>>>>>>>>>>>>>>>>>>>>>>>>>>>> 0.000000000000e+00\n",
      "Consistency of scalar multiplication and norm. Consistency error: >>>>>>>>>>>>>>>>>>>>>>>>>>>> 0.000000000000e+00\n",
      "Reflexivity. Consistency error: >>>>>>>>>>>>>>>>>>>>>>>>>>>>>>>>>>>>>>>>>>>>>>>>>>>>>>>>>>>>>> 0.000000000000e+00\n",
      "Consistency of apply and dual:>>>>>>>>>>>>>>>>>>>>>>>>>>>>>>>>>>>>>>>>>>>>>>>>>>>>>>>>>>>>>>>> 0.000000000000e+00\n",
      "\n",
      "********** End verification of linear algebra. ***********************************************\n",
      "\n",
      "\n",
      "  dynamics: Check dual constraint space vector\n",
      "\n",
      "********** Begin verification of linear algebra. *********************************************\n",
      "\n",
      "Commutativity of addition. Consistency error: >>>>>>>>>>>>>>>>>>>>>>>>>>>>>>>>>>>>>>>>>>>>>>>> 0.000000000000e+00\n",
      "Associativity of addition. Consistency error: >>>>>>>>>>>>>>>>>>>>>>>>>>>>>>>>>>>>>>>>>>>>>>>> 0.000000000000e+00\n",
      "Identity element of addition. Consistency error: >>>>>>>>>>>>>>>>>>>>>>>>>>>>>>>>>>>>>>>>>>>>> 0.000000000000e+00\n",
      "Inverse elements of addition. Consistency error: >>>>>>>>>>>>>>>>>>>>>>>>>>>>>>>>>>>>>>>>>>>>> 0.000000000000e+00\n",
      "Identity element of scalar multiplication. Consistency error: >>>>>>>>>>>>>>>>>>>>>>>>>>>>>>>> 0.000000000000e+00\n",
      "Consistency of scalar multiplication with field multiplication. Consistency error: >>>>>>>>>>> 0.000000000000e+00\n",
      "Distributivity of scalar multiplication with respect to field addition. Consistency error: >>> 0.000000000000e+00\n",
      "Distributivity of scalar multiplication with respect to vector addition. Consistency error: >> 0.000000000000e+00\n",
      "Commutativity of dot (inner) product over the field of reals. Consistency error: >>>>>>>>>>>>> 0.000000000000e+00\n",
      "Additivity of dot (inner) product. Consistency error: >>>>>>>>>>>>>>>>>>>>>>>>>>>>>>>>>>>>>>>> 0.000000000000e+00\n",
      "Consistency of scalar multiplication and norm. Consistency error: >>>>>>>>>>>>>>>>>>>>>>>>>>>> 0.000000000000e+00\n",
      "Reflexivity. Consistency error: >>>>>>>>>>>>>>>>>>>>>>>>>>>>>>>>>>>>>>>>>>>>>>>>>>>>>>>>>>>>>> 0.000000000000e+00\n",
      "Consistency of apply and dual:>>>>>>>>>>>>>>>>>>>>>>>>>>>>>>>>>>>>>>>>>>>>>>>>>>>>>>>>>>>>>>>> 0.000000000000e+00\n",
      "\n",
      "********** End verification of linear algebra. ***********************************************\n",
      "\n",
      "\n",
      "  Check objective function\n",
      "\n"
     ]
    },
    {
     "ename": "ValueError",
     "evalue": "shapes (20,20) and (0,1) not aligned: 20 (dim 1) != 0 (dim 0)",
     "output_type": "error",
     "traceback": [
      "\u001b[0;31m---------------------------------------------------------------------------\u001b[0m",
      "\u001b[0;31mValueError\u001b[0m                                Traceback (most recent call last)",
      "Cell \u001b[0;32mIn[5], line 6\u001b[0m\n\u001b[1;32m      3\u001b[0m scale_x_opt \u001b[38;5;241m=\u001b[39m \u001b[38;5;241m1\u001b[39m \u001b[38;5;66;03m# 1e-3\u001b[39;00m\n\u001b[1;32m      4\u001b[0m scale_obj \u001b[38;5;241m=\u001b[39m \u001b[38;5;241m1\u001b[39m \u001b[38;5;66;03m# 1e-2\u001b[39;00m\n\u001b[0;32m----> 6\u001b[0m results \u001b[38;5;241m=\u001b[39m \u001b[43mwec\u001b[49m\u001b[38;5;241;43m.\u001b[39;49m\u001b[43msolve\u001b[49m\u001b[43m(\u001b[49m\n\u001b[1;32m      7\u001b[0m \u001b[43m    \u001b[49m\u001b[43mwaves\u001b[49m\u001b[43m,\u001b[49m\n\u001b[1;32m      8\u001b[0m \u001b[43m    \u001b[49m\u001b[43mobj_fun\u001b[49m\u001b[43m,\u001b[49m\n\u001b[1;32m      9\u001b[0m \u001b[43m    \u001b[49m\u001b[43mnstate_opt\u001b[49m\u001b[43m,\u001b[49m\n\u001b[1;32m     10\u001b[0m \u001b[43m    \u001b[49m\u001b[38;5;66;43;03m# optim_options=options,\u001b[39;49;00m\n\u001b[1;32m     11\u001b[0m \u001b[43m    \u001b[49m\u001b[43mscale_x_wec\u001b[49m\u001b[38;5;241;43m=\u001b[39;49m\u001b[43mscale_x_wec\u001b[49m\u001b[43m,\u001b[49m\n\u001b[1;32m     12\u001b[0m \u001b[43m    \u001b[49m\u001b[43mscale_x_opt\u001b[49m\u001b[38;5;241;43m=\u001b[39;49m\u001b[43mscale_x_opt\u001b[49m\u001b[43m,\u001b[49m\n\u001b[1;32m     13\u001b[0m \u001b[43m    \u001b[49m\u001b[43mscale_obj\u001b[49m\u001b[38;5;241;43m=\u001b[39;49m\u001b[43mscale_obj\u001b[49m\u001b[43m,\u001b[49m\n\u001b[1;32m     14\u001b[0m \u001b[43m    \u001b[49m\u001b[43mparameter_file\u001b[49m\u001b[38;5;241;43m=\u001b[39;49m\u001b[38;5;124;43m'\u001b[39;49m\u001b[38;5;124;43mparameters.xml\u001b[39;49m\u001b[38;5;124;43m'\u001b[39;49m\u001b[43m,\u001b[49m\n\u001b[1;32m     15\u001b[0m \u001b[43m    \u001b[49m\u001b[43m)\u001b[49m\n\u001b[1;32m     17\u001b[0m opt_mechanical_average_power \u001b[38;5;241m=\u001b[39m results[\u001b[38;5;241m0\u001b[39m][\u001b[38;5;124m'\u001b[39m\u001b[38;5;124mf\u001b[39m\u001b[38;5;124m'\u001b[39m]\n\u001b[1;32m     18\u001b[0m \u001b[38;5;28mprint\u001b[39m(\u001b[38;5;124mf\u001b[39m\u001b[38;5;124m'\u001b[39m\u001b[38;5;124mOptimal average mechanical power: \u001b[39m\u001b[38;5;132;01m{\u001b[39;00mopt_mechanical_average_power\u001b[38;5;132;01m}\u001b[39;00m\u001b[38;5;124m W\u001b[39m\u001b[38;5;124m'\u001b[39m)\n",
      "File \u001b[0;32m~/repos/WecOptTool/wecopttool/core.py:780\u001b[0m, in \u001b[0;36mWEC.solve\u001b[0;34m(self, waves, obj_fun, nstate_opt, x_wec_0, x_opt_0, scale_x_wec, scale_x_opt, scale_obj, parameter_file, maximize)\u001b[0m\n\u001b[1;32m    778\u001b[0m problem \u001b[38;5;241m=\u001b[39m rol\u001b[38;5;241m.\u001b[39mProblem(objective, x, g)\n\u001b[1;32m    779\u001b[0m problem\u001b[38;5;241m.\u001b[39maddConstraint(\u001b[38;5;124m'\u001b[39m\u001b[38;5;124mdynamics\u001b[39m\u001b[38;5;124m'\u001b[39m, constraint, c)\n\u001b[0;32m--> 780\u001b[0m \u001b[43mproblem\u001b[49m\u001b[38;5;241;43m.\u001b[39;49m\u001b[43mcheck\u001b[49m\u001b[43m(\u001b[49m\u001b[38;5;28;43;01mTrue\u001b[39;49;00m\u001b[43m,\u001b[49m\u001b[43m \u001b[49m\u001b[43mstream\u001b[49m\u001b[43m)\u001b[49m\n\u001b[1;32m    782\u001b[0m \u001b[38;5;66;03m# Solve.  ###################################\u001b[39;00m\n\u001b[1;32m    783\u001b[0m solver \u001b[38;5;241m=\u001b[39m rol\u001b[38;5;241m.\u001b[39mSolver(problem, params)\n",
      "File \u001b[0;32m~/repos/WecOptTool/wecopttool/core.py:728\u001b[0m, in \u001b[0;36mWEC.solve.<locals>.Objective.value\u001b[0;34m(ObjSelf, x, tol)\u001b[0m\n\u001b[1;32m    727\u001b[0m \u001b[38;5;28;01mdef\u001b[39;00m \u001b[38;5;21mvalue\u001b[39m(ObjSelf, x, tol\u001b[38;5;241m=\u001b[39m\u001b[38;5;28;01mNone\u001b[39;00m):\n\u001b[0;32m--> 728\u001b[0m     \u001b[38;5;28;01mreturn\u001b[39;00m \u001b[43mObjSelf\u001b[49m\u001b[38;5;241;43m.\u001b[39;49m\u001b[43mobj\u001b[49m\u001b[43m(\u001b[49m\u001b[43mx\u001b[49m\u001b[43m)\u001b[49m \u001b[38;5;241m*\u001b[39m scale_obj\n",
      "File \u001b[0;32m~/repos/WecOptTool/wecopttool/core.py:724\u001b[0m, in \u001b[0;36mWEC.solve.<locals>.Objective.__init__.<locals>.obj\u001b[0;34m(x)\u001b[0m\n\u001b[1;32m    722\u001b[0m x_wec, x_opt \u001b[38;5;241m=\u001b[39m \u001b[38;5;28mself\u001b[39m\u001b[38;5;241m.\u001b[39mdecompose_state(x)  \u001b[38;5;66;03m# x_wec, x_opt = self.decompose_state(x/scale)\u001b[39;00m\n\u001b[1;32m    723\u001b[0m sign \u001b[38;5;241m=\u001b[39m \u001b[38;5;241m-\u001b[39m\u001b[38;5;241m1.0\u001b[39m \u001b[38;5;28;01mif\u001b[39;00m maximize \u001b[38;5;28;01melse\u001b[39;00m \u001b[38;5;241m1.0\u001b[39m\n\u001b[0;32m--> 724\u001b[0m \u001b[38;5;28;01mreturn\u001b[39;00m \u001b[43mobj_fun\u001b[49m\u001b[43m(\u001b[49m\u001b[38;5;28;43mself\u001b[39;49m\u001b[43m,\u001b[49m\u001b[43m \u001b[49m\u001b[43mx_wec\u001b[49m\u001b[43m,\u001b[49m\u001b[43m \u001b[49m\u001b[43mx_opt\u001b[49m\u001b[43m,\u001b[49m\u001b[43m \u001b[49m\u001b[43mwave\u001b[49m\u001b[43m)\u001b[49m\u001b[38;5;241m*\u001b[39msign\n",
      "File \u001b[0;32m~/repos/WecOptTool/wecopttool/pto.py:434\u001b[0m, in \u001b[0;36mPTO.mechanical_average_power\u001b[0;34m(self, wec, x_wec, x_opt, waves, nsubsteps)\u001b[0m\n\u001b[1;32m    408\u001b[0m \u001b[38;5;28;01mdef\u001b[39;00m \u001b[38;5;21mmechanical_average_power\u001b[39m(\u001b[38;5;28mself\u001b[39m,\n\u001b[1;32m    409\u001b[0m     wec: TWEC,\n\u001b[1;32m    410\u001b[0m     x_wec: ndarray,\n\u001b[0;32m   (...)\u001b[0m\n\u001b[1;32m    413\u001b[0m     nsubsteps: Optional[\u001b[38;5;28mint\u001b[39m] \u001b[38;5;241m=\u001b[39m \u001b[38;5;241m1\u001b[39m,\n\u001b[1;32m    414\u001b[0m ) \u001b[38;5;241m-\u001b[39m\u001b[38;5;241m>\u001b[39m \u001b[38;5;28mfloat\u001b[39m:\n\u001b[1;32m    415\u001b[0m \u001b[38;5;250m    \u001b[39m\u001b[38;5;124;03m\"\"\"Calculate average mechanical power in each PTO DOF for a\u001b[39;00m\n\u001b[1;32m    416\u001b[0m \u001b[38;5;124;03m    given system state.\u001b[39;00m\n\u001b[1;32m    417\u001b[0m \n\u001b[0;32m   (...)\u001b[0m\n\u001b[1;32m    432\u001b[0m \u001b[38;5;124;03m        length.\u001b[39;00m\n\u001b[1;32m    433\u001b[0m \u001b[38;5;124;03m    \"\"\"\u001b[39;00m\n\u001b[0;32m--> 434\u001b[0m     energy \u001b[38;5;241m=\u001b[39m \u001b[38;5;28;43mself\u001b[39;49m\u001b[38;5;241;43m.\u001b[39;49m\u001b[43mmechanical_energy\u001b[49m\u001b[43m(\u001b[49m\u001b[43mwec\u001b[49m\u001b[43m,\u001b[49m\u001b[43m \u001b[49m\u001b[43mx_wec\u001b[49m\u001b[43m,\u001b[49m\u001b[43m \u001b[49m\u001b[43mx_opt\u001b[49m\u001b[43m,\u001b[49m\u001b[43m \u001b[49m\u001b[43mwaves\u001b[49m\u001b[43m,\u001b[49m\u001b[43m \u001b[49m\u001b[43mnsubsteps\u001b[49m\u001b[43m)\u001b[49m\n\u001b[1;32m    435\u001b[0m     \u001b[38;5;28;01mreturn\u001b[39;00m energy \u001b[38;5;241m/\u001b[39m wec\u001b[38;5;241m.\u001b[39mtf\n",
      "File \u001b[0;32m~/repos/WecOptTool/wecopttool/pto.py:405\u001b[0m, in \u001b[0;36mPTO.mechanical_energy\u001b[0;34m(self, wec, x_wec, x_opt, waves, nsubsteps)\u001b[0m\n\u001b[1;32m    379\u001b[0m \u001b[38;5;28;01mdef\u001b[39;00m \u001b[38;5;21mmechanical_energy\u001b[39m(\u001b[38;5;28mself\u001b[39m,\n\u001b[1;32m    380\u001b[0m     wec: TWEC,\n\u001b[1;32m    381\u001b[0m     x_wec: ndarray,\n\u001b[0;32m   (...)\u001b[0m\n\u001b[1;32m    384\u001b[0m     nsubsteps: Optional[\u001b[38;5;28mint\u001b[39m] \u001b[38;5;241m=\u001b[39m \u001b[38;5;241m1\u001b[39m,\n\u001b[1;32m    385\u001b[0m ) \u001b[38;5;241m-\u001b[39m\u001b[38;5;241m>\u001b[39m \u001b[38;5;28mfloat\u001b[39m:\n\u001b[1;32m    386\u001b[0m \u001b[38;5;250m    \u001b[39m\u001b[38;5;124;03m\"\"\"Calculate the mechanical energy in each PTO DOF for a given\u001b[39;00m\n\u001b[1;32m    387\u001b[0m \u001b[38;5;124;03m    system state.\u001b[39;00m\n\u001b[1;32m    388\u001b[0m \n\u001b[0;32m   (...)\u001b[0m\n\u001b[1;32m    403\u001b[0m \u001b[38;5;124;03m        length.\u001b[39;00m\n\u001b[1;32m    404\u001b[0m \u001b[38;5;124;03m    \"\"\"\u001b[39;00m\n\u001b[0;32m--> 405\u001b[0m     power_td \u001b[38;5;241m=\u001b[39m \u001b[38;5;28;43mself\u001b[39;49m\u001b[38;5;241;43m.\u001b[39;49m\u001b[43mmechanical_power\u001b[49m\u001b[43m(\u001b[49m\u001b[43mwec\u001b[49m\u001b[43m,\u001b[49m\u001b[43m \u001b[49m\u001b[43mx_wec\u001b[49m\u001b[43m,\u001b[49m\u001b[43m \u001b[49m\u001b[43mx_opt\u001b[49m\u001b[43m,\u001b[49m\u001b[43m \u001b[49m\u001b[43mwaves\u001b[49m\u001b[43m,\u001b[49m\u001b[43m \u001b[49m\u001b[43mnsubsteps\u001b[49m\u001b[43m)\u001b[49m\n\u001b[1;32m    406\u001b[0m     \u001b[38;5;28;01mreturn\u001b[39;00m np\u001b[38;5;241m.\u001b[39msum(power_td) \u001b[38;5;241m*\u001b[39m wec\u001b[38;5;241m.\u001b[39mdt\u001b[38;5;241m/\u001b[39mnsubsteps\n",
      "File \u001b[0;32m~/repos/WecOptTool/wecopttool/pto.py:375\u001b[0m, in \u001b[0;36mPTO.mechanical_power\u001b[0;34m(self, wec, x_wec, x_opt, waves, nsubsteps)\u001b[0m\n\u001b[1;32m    349\u001b[0m \u001b[38;5;28;01mdef\u001b[39;00m \u001b[38;5;21mmechanical_power\u001b[39m(\u001b[38;5;28mself\u001b[39m,\n\u001b[1;32m    350\u001b[0m     wec: TWEC,\n\u001b[1;32m    351\u001b[0m     x_wec: ndarray,\n\u001b[0;32m   (...)\u001b[0m\n\u001b[1;32m    354\u001b[0m     nsubsteps: Optional[\u001b[38;5;28mint\u001b[39m] \u001b[38;5;241m=\u001b[39m \u001b[38;5;241m1\u001b[39m,\n\u001b[1;32m    355\u001b[0m ) \u001b[38;5;241m-\u001b[39m\u001b[38;5;241m>\u001b[39m np\u001b[38;5;241m.\u001b[39mndarray:\n\u001b[1;32m    356\u001b[0m \u001b[38;5;250m    \u001b[39m\u001b[38;5;124;03m\"\"\"Calculate the mechanical power time-series in each PTO DOF\u001b[39;00m\n\u001b[1;32m    357\u001b[0m \u001b[38;5;124;03m    for a given system state.\u001b[39;00m\n\u001b[1;32m    358\u001b[0m \n\u001b[0;32m   (...)\u001b[0m\n\u001b[1;32m    373\u001b[0m \u001b[38;5;124;03m        length.\u001b[39;00m\n\u001b[1;32m    374\u001b[0m \u001b[38;5;124;03m    \"\"\"\u001b[39;00m\n\u001b[0;32m--> 375\u001b[0m     force_td \u001b[38;5;241m=\u001b[39m \u001b[38;5;28;43mself\u001b[39;49m\u001b[38;5;241;43m.\u001b[39;49m\u001b[43mforce\u001b[49m\u001b[43m(\u001b[49m\u001b[43mwec\u001b[49m\u001b[43m,\u001b[49m\u001b[43m \u001b[49m\u001b[43mx_wec\u001b[49m\u001b[43m,\u001b[49m\u001b[43m \u001b[49m\u001b[43mx_opt\u001b[49m\u001b[43m,\u001b[49m\u001b[43m \u001b[49m\u001b[43mwaves\u001b[49m\u001b[43m,\u001b[49m\u001b[43m \u001b[49m\u001b[43mnsubsteps\u001b[49m\u001b[43m)\u001b[49m\n\u001b[1;32m    376\u001b[0m     vel_td \u001b[38;5;241m=\u001b[39m \u001b[38;5;28mself\u001b[39m\u001b[38;5;241m.\u001b[39mvelocity(wec, x_wec, x_opt, waves, nsubsteps)\n\u001b[1;32m    377\u001b[0m     \u001b[38;5;28;01mreturn\u001b[39;00m vel_td \u001b[38;5;241m*\u001b[39m force_td\n",
      "File \u001b[0;32m~/repos/WecOptTool/wecopttool/pto.py:124\u001b[0m, in \u001b[0;36mPTO.__init__.<locals>.force\u001b[0;34m(wec, x_wec, x_opt, waves, nsubsteps)\u001b[0m\n\u001b[1;32m    123\u001b[0m \u001b[38;5;28;01mdef\u001b[39;00m \u001b[38;5;21mforce\u001b[39m(wec, x_wec, x_opt, waves, nsubsteps\u001b[38;5;241m=\u001b[39m\u001b[38;5;241m1\u001b[39m):\n\u001b[0;32m--> 124\u001b[0m     \u001b[38;5;28;01mreturn\u001b[39;00m \u001b[43mcontroller\u001b[49m\u001b[43m(\u001b[49m\u001b[38;5;28;43mself\u001b[39;49m\u001b[43m,\u001b[49m\u001b[43m \u001b[49m\u001b[43mwec\u001b[49m\u001b[43m,\u001b[49m\u001b[43m \u001b[49m\u001b[43mx_wec\u001b[49m\u001b[43m,\u001b[49m\u001b[43m \u001b[49m\u001b[43mx_opt\u001b[49m\u001b[43m,\u001b[49m\u001b[43m \u001b[49m\u001b[43mwaves\u001b[49m\u001b[43m,\u001b[49m\u001b[43m \u001b[49m\u001b[43mnsubsteps\u001b[49m\u001b[43m)\u001b[49m\n",
      "File \u001b[0;32m~/repos/WecOptTool/wecopttool/pto.py:922\u001b[0m, in \u001b[0;36mcontroller_unstructured\u001b[0;34m(pto, wec, x_wec, x_opt, waves, nsubsteps)\u001b[0m\n\u001b[1;32m    920\u001b[0m tmat \u001b[38;5;241m=\u001b[39m pto\u001b[38;5;241m.\u001b[39m_tmat(wec, nsubsteps)\n\u001b[1;32m    921\u001b[0m x_opt \u001b[38;5;241m=\u001b[39m np\u001b[38;5;241m.\u001b[39mreshape(x_opt[:\u001b[38;5;28mlen\u001b[39m(tmat[\u001b[38;5;241m0\u001b[39m])\u001b[38;5;241m*\u001b[39mpto\u001b[38;5;241m.\u001b[39mndof], (\u001b[38;5;241m-\u001b[39m\u001b[38;5;241m1\u001b[39m, pto\u001b[38;5;241m.\u001b[39mndof), order\u001b[38;5;241m=\u001b[39m\u001b[38;5;124m'\u001b[39m\u001b[38;5;124mF\u001b[39m\u001b[38;5;124m'\u001b[39m)\n\u001b[0;32m--> 922\u001b[0m \u001b[38;5;28;01mreturn\u001b[39;00m \u001b[43mnp\u001b[49m\u001b[38;5;241;43m.\u001b[39;49m\u001b[43mdot\u001b[49m\u001b[43m(\u001b[49m\u001b[43mtmat\u001b[49m\u001b[43m,\u001b[49m\u001b[43m \u001b[49m\u001b[43mx_opt\u001b[49m\u001b[43m)\u001b[49m\n",
      "File \u001b[0;32m~/miniforge3/envs/rol/lib/python3.11/site-packages/autograd/tracer.py:48\u001b[0m, in \u001b[0;36mprimitive.<locals>.f_wrapped\u001b[0;34m(*args, **kwargs)\u001b[0m\n\u001b[1;32m     46\u001b[0m     \u001b[38;5;28;01mreturn\u001b[39;00m new_box(ans, trace, node)\n\u001b[1;32m     47\u001b[0m \u001b[38;5;28;01melse\u001b[39;00m:\n\u001b[0;32m---> 48\u001b[0m     \u001b[38;5;28;01mreturn\u001b[39;00m \u001b[43mf_raw\u001b[49m\u001b[43m(\u001b[49m\u001b[38;5;241;43m*\u001b[39;49m\u001b[43margs\u001b[49m\u001b[43m,\u001b[49m\u001b[43m \u001b[49m\u001b[38;5;241;43m*\u001b[39;49m\u001b[38;5;241;43m*\u001b[39;49m\u001b[43mkwargs\u001b[49m\u001b[43m)\u001b[49m\n",
      "\u001b[0;31mValueError\u001b[0m: shapes (20,20) and (0,1) not aligned: 20 (dim 1) != 0 (dim 0)"
     ]
    }
   ],
   "source": [
    "# options = {'maxiter': 200}\n",
    "scale_x_wec = 1 # 1e1\n",
    "scale_x_opt = 1 # 1e-3\n",
    "scale_obj = 1 # 1e-2\n",
    "\n",
    "results = wec.solve(\n",
    "    waves,\n",
    "    obj_fun,\n",
    "    nstate_opt,\n",
    "    # optim_options=options,\n",
    "    scale_x_wec=scale_x_wec,\n",
    "    scale_x_opt=scale_x_opt,\n",
    "    scale_obj=scale_obj,\n",
    "    parameter_file='parameters.xml',\n",
    "    )\n",
    "\n",
    "opt_mechanical_average_power = results[0]['f']\n",
    "print(f'Optimal average mechanical power: {opt_mechanical_average_power} W')"
   ]
  },
  {
   "cell_type": "markdown",
   "metadata": {},
   "source": [
    "### Analyzing results"
   ]
  }
 ],
 "metadata": {
  "kernelspec": {
   "display_name": "wot_dev",
   "language": "python",
   "name": "python3"
  },
  "language_info": {
   "codemirror_mode": {
    "name": "ipython",
    "version": 3
   },
   "file_extension": ".py",
   "mimetype": "text/x-python",
   "name": "python",
   "nbconvert_exporter": "python",
   "pygments_lexer": "ipython3",
   "version": "3.11.9"
  },
  "vscode": {
   "interpreter": {
    "hash": "a3e13d9eb6391ec8c830b5b864d7e2cac256aef786c5e95ba02dc5258710976f"
   }
  }
 },
 "nbformat": 4,
 "nbformat_minor": 2
}
