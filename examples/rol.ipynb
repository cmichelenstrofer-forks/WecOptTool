{
 "cells": [
  {
   "cell_type": "markdown",
   "metadata": {},
   "source": [
    "# ROL - WaveBot\n"
   ]
  },
  {
   "cell_type": "code",
   "execution_count": 1,
   "metadata": {},
   "outputs": [],
   "source": [
    "import autograd.numpy as np\n",
    "import capytaine as cpy\n",
    "import matplotlib.pyplot as plt\n",
    "\n",
    "import wecopttool as wot\n",
    "\n",
    "plt.style.use('tableau-colorblind10')"
   ]
  },
  {
   "cell_type": "markdown",
   "metadata": {},
   "source": [
    "### Waves"
   ]
  },
  {
   "cell_type": "code",
   "execution_count": 2,
   "metadata": {},
   "outputs": [],
   "source": [
    "wavefreq = 0.3 # Hz\n",
    "f1 = wavefreq\n",
    "nfreq = 10\n",
    "freq = wot.frequency(f1, nfreq, False)\n",
    "\n",
    "amplitude = 0.0625 # m\n",
    "phase = 30 # degrees\n",
    "wavedir = 0 # degrees\n",
    "\n",
    "waves = wot.waves.regular_wave(f1, nfreq, wavefreq, amplitude, phase, wavedir)"
   ]
  },
  {
   "cell_type": "markdown",
   "metadata": {},
   "source": [
    "### WEC object"
   ]
  },
  {
   "cell_type": "code",
   "execution_count": 3,
   "metadata": {},
   "outputs": [
    {
     "name": "stderr",
     "output_type": "stream",
     "text": [
      "WARNING:wecopttool.core:Using the geometric centroid as the center of gravity (COG).\n"
     ]
    },
    {
     "name": "stdout",
     "output_type": "stream",
     "text": [
      "Info    : [ 90%] Union - Splitting solids                                                                                          \r"
     ]
    },
    {
     "data": {
      "text/html": [
       "<pre style=\"white-space:pre;overflow-x:auto;line-height:normal;font-family:Menlo,'DejaVu Sans Mono',consolas,'Courier New',monospace\"><span style=\"color: #7fbfbf; text-decoration-color: #7fbfbf\">[13:14:06] </span><span style=\"color: #800000; text-decoration-color: #800000\">WARNING </span> Using the geometric centroid as the center of gravity <span style=\"font-weight: bold\">(</span>COG<span style=\"font-weight: bold\">)</span>.                                   \n",
       "</pre>\n"
      ],
      "text/plain": [
       "\u001b[2;36m[13:14:06]\u001b[0m\u001b[2;36m \u001b[0m\u001b[31mWARNING \u001b[0m Using the geometric centroid as the center of gravity \u001b[1m(\u001b[0mCOG\u001b[1m)\u001b[0m.                                   \n"
      ]
     },
     "metadata": {},
     "output_type": "display_data"
    },
    {
     "name": "stderr",
     "output_type": "stream",
     "text": [
      "WARNING:wecopttool.core:Using the center of gravity (COG) as the rotation center for hydrostatics.\n"
     ]
    },
    {
     "data": {
      "text/html": [
       "<pre style=\"white-space:pre;overflow-x:auto;line-height:normal;font-family:Menlo,'DejaVu Sans Mono',consolas,'Courier New',monospace\"><span style=\"color: #7fbfbf; text-decoration-color: #7fbfbf\">           </span><span style=\"color: #800000; text-decoration-color: #800000\">WARNING </span> Using the center of gravity <span style=\"font-weight: bold\">(</span>COG<span style=\"font-weight: bold\">)</span> as the rotation center for hydrostatics.                     \n",
       "</pre>\n"
      ],
      "text/plain": [
       "\u001b[2;36m          \u001b[0m\u001b[2;36m \u001b[0m\u001b[31mWARNING \u001b[0m Using the center of gravity \u001b[1m(\u001b[0mCOG\u001b[1m)\u001b[0m as the rotation center for hydrostatics.                     \n"
      ]
     },
     "metadata": {},
     "output_type": "display_data"
    },
    {
     "name": "stderr",
     "output_type": "stream",
     "text": [
      "WARNING:capytaine.bem.solver:Mesh resolution for 12 problems:\n",
      "The resolution of the mesh might be insufficient for omega ranging from 9.425 to 18.850.\n",
      "This warning appears when the largest panel of this mesh has radius > wavelength/8.\n"
     ]
    },
    {
     "data": {
      "text/html": [
       "<pre style=\"white-space:pre;overflow-x:auto;line-height:normal;font-family:Menlo,'DejaVu Sans Mono',consolas,'Courier New',monospace\"><span style=\"color: #7fbfbf; text-decoration-color: #7fbfbf\">           </span><span style=\"color: #800000; text-decoration-color: #800000\">WARNING </span> Mesh resolution for <span style=\"color: #008080; text-decoration-color: #008080; font-weight: bold\">12</span> problems:                                                               \n",
       "<span style=\"color: #7fbfbf; text-decoration-color: #7fbfbf\">           </span>         The resolution of the mesh might be insufficient for omega ranging from <span style=\"color: #008080; text-decoration-color: #008080; font-weight: bold\">9.425</span> to <span style=\"color: #008080; text-decoration-color: #008080; font-weight: bold\">18.850</span>.       \n",
       "<span style=\"color: #7fbfbf; text-decoration-color: #7fbfbf\">           </span>         This warning appears when the largest panel of this mesh has radius &gt; wavelength/<span style=\"color: #008080; text-decoration-color: #008080; font-weight: bold\">8</span>.            \n",
       "</pre>\n"
      ],
      "text/plain": [
       "\u001b[2;36m          \u001b[0m\u001b[2;36m \u001b[0m\u001b[31mWARNING \u001b[0m Mesh resolution for \u001b[1;36m12\u001b[0m problems:                                                               \n",
       "\u001b[2;36m           \u001b[0m         The resolution of the mesh might be insufficient for omega ranging from \u001b[1;36m9.425\u001b[0m to \u001b[1;36m18.850\u001b[0m.       \n",
       "\u001b[2;36m           \u001b[0m         This warning appears when the largest panel of this mesh has radius > wavelength/\u001b[1;36m8\u001b[0m.            \n"
      ]
     },
     "metadata": {},
     "output_type": "display_data"
    },
    {
     "data": {
      "application/vnd.jupyter.widget-view+json": {
       "model_id": "59260debf22d4a40af26e088f3cf337d",
       "version_major": 2,
       "version_minor": 0
      },
      "text/plain": [
       "Output()"
      ]
     },
     "metadata": {},
     "output_type": "display_data"
    },
    {
     "data": {
      "text/html": [
       "<pre style=\"white-space:pre;overflow-x:auto;line-height:normal;font-family:Menlo,'DejaVu Sans Mono',consolas,'Courier New',monospace\"></pre>\n"
      ],
      "text/plain": []
     },
     "metadata": {},
     "output_type": "display_data"
    },
    {
     "data": {
      "text/html": [
       "<pre style=\"white-space:pre;overflow-x:auto;line-height:normal;font-family:Menlo,'DejaVu Sans Mono',consolas,'Courier New',monospace\">\n",
       "</pre>\n"
      ],
      "text/plain": [
       "\n"
      ]
     },
     "metadata": {},
     "output_type": "display_data"
    },
    {
     "name": "stderr",
     "output_type": "stream",
     "text": [
      "WARNING:wecopttool.core:Linear damping for DOF \"Heave\" has negative or close to zero terms. Shifting up damping terms [5 7 8 9] to a minimum of 1e-06 N/(m/s)\n"
     ]
    },
    {
     "data": {
      "text/html": [
       "<pre style=\"white-space:pre;overflow-x:auto;line-height:normal;font-family:Menlo,'DejaVu Sans Mono',consolas,'Courier New',monospace\"><span style=\"color: #7fbfbf; text-decoration-color: #7fbfbf\">[13:14:09] </span><span style=\"color: #800000; text-decoration-color: #800000\">WARNING </span> Linear damping for DOF <span style=\"color: #008000; text-decoration-color: #008000\">\"Heave\"</span> has negative or close to zero terms. Shifting up damping terms  \n",
       "<span style=\"color: #7fbfbf; text-decoration-color: #7fbfbf\">           </span>         <span style=\"font-weight: bold\">[</span><span style=\"color: #008080; text-decoration-color: #008080; font-weight: bold\">5</span> <span style=\"color: #008080; text-decoration-color: #008080; font-weight: bold\">7</span> <span style=\"color: #008080; text-decoration-color: #008080; font-weight: bold\">8</span> <span style=\"color: #008080; text-decoration-color: #008080; font-weight: bold\">9</span><span style=\"font-weight: bold\">]</span> to a minimum of <span style=\"color: #008080; text-decoration-color: #008080; font-weight: bold\">1e-06</span> N/<span style=\"font-weight: bold\">(</span>m/s<span style=\"font-weight: bold\">)</span>                                                        \n",
       "</pre>\n"
      ],
      "text/plain": [
       "\u001b[2;36m[13:14:09]\u001b[0m\u001b[2;36m \u001b[0m\u001b[31mWARNING \u001b[0m Linear damping for DOF \u001b[32m\"Heave\"\u001b[0m has negative or close to zero terms. Shifting up damping terms  \n",
       "\u001b[2;36m           \u001b[0m         \u001b[1m[\u001b[0m\u001b[1;36m5\u001b[0m \u001b[1;36m7\u001b[0m \u001b[1;36m8\u001b[0m \u001b[1;36m9\u001b[0m\u001b[1m]\u001b[0m to a minimum of \u001b[1;36m1e-06\u001b[0m N/\u001b[1m(\u001b[0mm/s\u001b[1m)\u001b[0m                                                        \n"
      ]
     },
     "metadata": {},
     "output_type": "display_data"
    }
   ],
   "source": [
    "wb = wot.geom.WaveBot()\n",
    "mesh_size_factor = 0.5\n",
    "mesh = wb.mesh(mesh_size_factor)\n",
    "fb = cpy.FloatingBody.from_meshio(mesh, name=\"WaveBot\")\n",
    "\n",
    "fb.add_translation_dof(name=\"Heave\")\n",
    "ndof = fb.nb_dofs\n",
    "\n",
    "bem_data = wot.run_bem(fb, freq)\n",
    "\n",
    "name = [\"PTO_Heave\",]\n",
    "kinematics = np.eye(ndof)\n",
    "controller = None\n",
    "loss = None\n",
    "pto_impedance = None\n",
    "pto = wot.pto.PTO(ndof, kinematics, controller, pto_impedance, loss, name)\n",
    "\n",
    "f_add = {'PTO': pto.force_on_wec}\n",
    "\n",
    "wec = wot.WEC.from_bem(bem_data, f_add=f_add)"
   ]
  },
  {
   "cell_type": "markdown",
   "metadata": {},
   "source": [
    "### Objective function"
   ]
  },
  {
   "cell_type": "code",
   "execution_count": 4,
   "metadata": {},
   "outputs": [],
   "source": [
    "obj_fun = pto.mechanical_average_power\n",
    "nstate_opt = 2*nfreq"
   ]
  },
  {
   "cell_type": "markdown",
   "metadata": {},
   "source": [
    "### Solve"
   ]
  },
  {
   "cell_type": "code",
   "execution_count": 5,
   "metadata": {},
   "outputs": [
    {
     "name": "stderr",
     "output_type": "stream",
     "text": [
      "/Users/cmichel/repos/WecOptTool/wecopttool/core.py:673: UserWarning: The `squeeze` kwarg to GroupBy is being removed.Pass .groupby(..., squeeze=False) to disable squeezing, which is the new default, and to silence this warning.\n",
      "  for realization, wave in waves.groupby('realization'):\n"
     ]
    },
    {
     "name": "stdout",
     "output_type": "stream",
     "text": [
      "\n",
      "  Check primal optimization space vector\n",
      "\n",
      "********** Begin verification of linear algebra. *********************************************\n",
      "\n",
      "Commutativity of addition. Consistency error: >>>>>>>>>>>>>>>>>>>>>>>>>>>>>>>>>>>>>>>>>>>>>>>> 0.000000000000e+00\n",
      "Associativity of addition. Consistency error: >>>>>>>>>>>>>>>>>>>>>>>>>>>>>>>>>>>>>>>>>>>>>>>> 6.718913446119e-16\n",
      "Identity element of addition. Consistency error: >>>>>>>>>>>>>>>>>>>>>>>>>>>>>>>>>>>>>>>>>>>>> 0.000000000000e+00\n",
      "Inverse elements of addition. Consistency error: >>>>>>>>>>>>>>>>>>>>>>>>>>>>>>>>>>>>>>>>>>>>> 0.000000000000e+00\n",
      "Identity element of scalar multiplication. Consistency error: >>>>>>>>>>>>>>>>>>>>>>>>>>>>>>>> 0.000000000000e+00\n",
      "Consistency of scalar multiplication with field multiplication. Consistency error: >>>>>>>>>>> 3.239802184843e-16\n",
      "Distributivity of scalar multiplication with respect to field addition. Consistency error: >>> 5.059686135104e-16\n",
      "Distributivity of scalar multiplication with respect to vector addition. Consistency error: >> 1.083267794737e-15\n",
      "Commutativity of dot (inner) product over the field of reals. Consistency error: >>>>>>>>>>>>> 0.000000000000e+00\n",
      "Additivity of dot (inner) product. Consistency error: >>>>>>>>>>>>>>>>>>>>>>>>>>>>>>>>>>>>>>>> 1.985174652215e-16\n",
      "Consistency of scalar multiplication and norm. Consistency error: >>>>>>>>>>>>>>>>>>>>>>>>>>>> 0.000000000000e+00\n",
      "Reflexivity. Consistency error: >>>>>>>>>>>>>>>>>>>>>>>>>>>>>>>>>>>>>>>>>>>>>>>>>>>>>>>>>>>>>> 0.000000000000e+00\n",
      "Consistency of apply and dual:>>>>>>>>>>>>>>>>>>>>>>>>>>>>>>>>>>>>>>>>>>>>>>>>>>>>>>>>>>>>>>>> 0.000000000000e+00\n",
      "\n",
      "********** End verification of linear algebra. ***********************************************\n",
      "\n",
      "\n",
      "  Check dual optimization space vector\n",
      "\n",
      "********** Begin verification of linear algebra. *********************************************\n",
      "\n",
      "Commutativity of addition. Consistency error: >>>>>>>>>>>>>>>>>>>>>>>>>>>>>>>>>>>>>>>>>>>>>>>> 0.000000000000e+00\n",
      "Associativity of addition. Consistency error: >>>>>>>>>>>>>>>>>>>>>>>>>>>>>>>>>>>>>>>>>>>>>>>> 2.950458159105e-16\n",
      "Identity element of addition. Consistency error: >>>>>>>>>>>>>>>>>>>>>>>>>>>>>>>>>>>>>>>>>>>>> 0.000000000000e+00\n",
      "Inverse elements of addition. Consistency error: >>>>>>>>>>>>>>>>>>>>>>>>>>>>>>>>>>>>>>>>>>>>> 0.000000000000e+00\n",
      "Identity element of scalar multiplication. Consistency error: >>>>>>>>>>>>>>>>>>>>>>>>>>>>>>>> 0.000000000000e+00\n",
      "Consistency of scalar multiplication with field multiplication. Consistency error: >>>>>>>>>>> 3.239802184843e-16\n",
      "Distributivity of scalar multiplication with respect to field addition. Consistency error: >>> 5.059686135104e-16\n",
      "Distributivity of scalar multiplication with respect to vector addition. Consistency error: >> 5.574052818895e-16\n",
      "Commutativity of dot (inner) product over the field of reals. Consistency error: >>>>>>>>>>>>> 0.000000000000e+00\n",
      "Additivity of dot (inner) product. Consistency error: >>>>>>>>>>>>>>>>>>>>>>>>>>>>>>>>>>>>>>>> 1.147946962784e-16\n",
      "Consistency of scalar multiplication and norm. Consistency error: >>>>>>>>>>>>>>>>>>>>>>>>>>>> 0.000000000000e+00\n",
      "Reflexivity. Consistency error: >>>>>>>>>>>>>>>>>>>>>>>>>>>>>>>>>>>>>>>>>>>>>>>>>>>>>>>>>>>>>> 0.000000000000e+00\n",
      "Consistency of apply and dual:>>>>>>>>>>>>>>>>>>>>>>>>>>>>>>>>>>>>>>>>>>>>>>>>>>>>>>>>>>>>>>>> 0.000000000000e+00\n",
      "\n",
      "********** End verification of linear algebra. ***********************************************\n",
      "\n",
      "\n",
      "  dynamics: Check primal constraint space vector\n",
      "\n",
      "********** Begin verification of linear algebra. *********************************************\n",
      "\n",
      "Commutativity of addition. Consistency error: >>>>>>>>>>>>>>>>>>>>>>>>>>>>>>>>>>>>>>>>>>>>>>>> 0.000000000000e+00\n",
      "Associativity of addition. Consistency error: >>>>>>>>>>>>>>>>>>>>>>>>>>>>>>>>>>>>>>>>>>>>>>>> 0.000000000000e+00\n",
      "Identity element of addition. Consistency error: >>>>>>>>>>>>>>>>>>>>>>>>>>>>>>>>>>>>>>>>>>>>> 0.000000000000e+00\n",
      "Inverse elements of addition. Consistency error: >>>>>>>>>>>>>>>>>>>>>>>>>>>>>>>>>>>>>>>>>>>>> 0.000000000000e+00\n",
      "Identity element of scalar multiplication. Consistency error: >>>>>>>>>>>>>>>>>>>>>>>>>>>>>>>> 0.000000000000e+00\n",
      "Consistency of scalar multiplication with field multiplication. Consistency error: >>>>>>>>>>> 0.000000000000e+00\n",
      "Distributivity of scalar multiplication with respect to field addition. Consistency error: >>> 0.000000000000e+00\n",
      "Distributivity of scalar multiplication with respect to vector addition. Consistency error: >> 0.000000000000e+00\n",
      "Commutativity of dot (inner) product over the field of reals. Consistency error: >>>>>>>>>>>>> 0.000000000000e+00\n",
      "Additivity of dot (inner) product. Consistency error: >>>>>>>>>>>>>>>>>>>>>>>>>>>>>>>>>>>>>>>> 0.000000000000e+00\n",
      "Consistency of scalar multiplication and norm. Consistency error: >>>>>>>>>>>>>>>>>>>>>>>>>>>> 0.000000000000e+00\n",
      "Reflexivity. Consistency error: >>>>>>>>>>>>>>>>>>>>>>>>>>>>>>>>>>>>>>>>>>>>>>>>>>>>>>>>>>>>>> 0.000000000000e+00\n",
      "Consistency of apply and dual:>>>>>>>>>>>>>>>>>>>>>>>>>>>>>>>>>>>>>>>>>>>>>>>>>>>>>>>>>>>>>>>> 0.000000000000e+00\n",
      "\n",
      "********** End verification of linear algebra. ***********************************************\n",
      "\n",
      "\n",
      "  dynamics: Check dual constraint space vector\n",
      "\n",
      "********** Begin verification of linear algebra. *********************************************\n",
      "\n",
      "Commutativity of addition. Consistency error: >>>>>>>>>>>>>>>>>>>>>>>>>>>>>>>>>>>>>>>>>>>>>>>> 0.000000000000e+00\n",
      "Associativity of addition. Consistency error: >>>>>>>>>>>>>>>>>>>>>>>>>>>>>>>>>>>>>>>>>>>>>>>> 0.000000000000e+00\n",
      "Identity element of addition. Consistency error: >>>>>>>>>>>>>>>>>>>>>>>>>>>>>>>>>>>>>>>>>>>>> 0.000000000000e+00\n",
      "Inverse elements of addition. Consistency error: >>>>>>>>>>>>>>>>>>>>>>>>>>>>>>>>>>>>>>>>>>>>> 0.000000000000e+00\n",
      "Identity element of scalar multiplication. Consistency error: >>>>>>>>>>>>>>>>>>>>>>>>>>>>>>>> 0.000000000000e+00\n",
      "Consistency of scalar multiplication with field multiplication. Consistency error: >>>>>>>>>>> 0.000000000000e+00\n",
      "Distributivity of scalar multiplication with respect to field addition. Consistency error: >>> 0.000000000000e+00\n",
      "Distributivity of scalar multiplication with respect to vector addition. Consistency error: >> 0.000000000000e+00\n",
      "Commutativity of dot (inner) product over the field of reals. Consistency error: >>>>>>>>>>>>> 0.000000000000e+00\n",
      "Additivity of dot (inner) product. Consistency error: >>>>>>>>>>>>>>>>>>>>>>>>>>>>>>>>>>>>>>>> 0.000000000000e+00\n",
      "Consistency of scalar multiplication and norm. Consistency error: >>>>>>>>>>>>>>>>>>>>>>>>>>>> 0.000000000000e+00\n",
      "Reflexivity. Consistency error: >>>>>>>>>>>>>>>>>>>>>>>>>>>>>>>>>>>>>>>>>>>>>>>>>>>>>>>>>>>>>> 0.000000000000e+00\n",
      "Consistency of apply and dual:>>>>>>>>>>>>>>>>>>>>>>>>>>>>>>>>>>>>>>>>>>>>>>>>>>>>>>>>>>>>>>>> 0.000000000000e+00\n",
      "\n",
      "********** End verification of linear algebra. ***********************************************\n",
      "\n",
      "\n",
      "  Check objective function\n",
      "\n",
      "           Step size           grad'*dir           FD approx           abs error\n",
      "           ---------           ---------           ---------           ---------\n",
      "   1.00000000000e+00   9.50647992695e+00   2.40442296832e+01   1.45377497563e+01\n",
      "   1.00000000000e-01   9.50647992695e+00   1.09602549026e+01   1.45377497563e+00\n",
      "   1.00000000000e-02   9.50647992695e+00   9.65185742451e+00   1.45377497564e-01\n",
      "   1.00000000000e-03   9.50647992695e+00   9.52101767670e+00   1.45377497547e-02\n",
      "   1.00000000000e-04   9.50647992695e+00   9.50793370197e+00   1.45377502306e-03\n",
      "   1.00000000000e-05   9.50647992695e+00   9.50662530479e+00   1.45377841349e-04\n",
      "   1.00000000000e-06   9.50647992695e+00   9.50649446563e+00   1.45386796220e-05\n",
      "   1.00000000000e-07   9.50647992695e+00   9.50648139764e+00   1.47068848833e-06\n",
      "   1.00000000000e-08   9.50647992695e+00   9.50648042508e+00   4.98133118754e-07\n",
      "   1.00000000000e-09   9.50647992695e+00   9.50648626485e+00   6.33790622828e-06\n",
      "   1.00000000000e-10   9.50647992695e+00   9.50649337028e+00   1.34433335859e-05\n",
      "   1.00000000000e-11   9.50647992695e+00   9.50670653310e+00   2.26606154314e-04\n",
      "   1.00000000000e-12   9.50647992695e+00   9.50883816131e+00   2.35823436159e-03\n",
      "           Step size      norm(Hess*vec)     norm(FD approx)     norm(abs error)\n",
      "           ---------      --------------     ---------------     ---------------\n",
      "   1.00000000000e+00   1.74609508220e+01   1.74609508220e+01   7.69603593958e-15\n",
      "   1.00000000000e-01   1.74609508220e+01   1.74609508220e+01   5.67660446127e-14\n",
      "   1.00000000000e-02   1.74609508220e+01   1.74609508220e+01   7.62014616741e-13\n",
      "   1.00000000000e-03   1.74609508220e+01   1.74609508220e+01   5.74945313195e-12\n",
      "   1.00000000000e-04   1.74609508220e+01   1.74609508220e+01   5.07352302497e-11\n",
      "   1.00000000000e-05   1.74609508220e+01   1.74609508221e+01   7.62313734557e-10\n",
      "   1.00000000000e-06   1.74609508220e+01   1.74609508218e+01   5.07851451783e-09\n",
      "   1.00000000000e-07   1.74609508220e+01   1.74609508285e+01   6.26287325616e-08\n",
      "   1.00000000000e-08   1.74609508220e+01   1.74609509239e+01   5.74762230562e-07\n",
      "   1.00000000000e-09   1.74609508220e+01   1.74609522333e+01   6.06760544393e-06\n",
      "   1.00000000000e-10   1.74609508220e+01   1.74609650240e+01   5.06607019328e-05\n",
      "   1.00000000000e-11   1.74609508220e+01   1.74609672246e+01   5.47735545898e-04\n",
      "   1.00000000000e-12   1.74609508220e+01   1.74610839911e+01   5.73649380356e-03\n",
      "          <w, H(x)v>          <v, H(x)w>           abs error\n",
      "  -1.20598392200e+01  -1.20598392200e+01   0.00000000000e+00\n",
      "\n",
      "  dynamics: Check constraint function\n",
      "\n",
      "           Step size       norm(Jac*vec)     norm(FD approx)     norm(abs error)\n",
      "           ---------       -------------     ---------------     ---------------\n",
      "   1.00000000000e+00   3.07424406560e+06   3.07424406560e+06   6.89413781794e-10\n",
      "   1.00000000000e-01   3.07424406560e+06   3.07424406560e+06   5.81753648920e-09\n",
      "   1.00000000000e-02   3.07424406560e+06   3.07424406560e+06   5.46401270845e-08\n",
      "   1.00000000000e-03   3.07424406560e+06   3.07424406560e+06   4.84609928236e-07\n",
      "   1.00000000000e-04   3.07424406560e+06   3.07424406560e+06   5.65349311155e-06\n",
      "   1.00000000000e-05   3.07424406560e+06   3.07424406560e+06   4.16974370211e-05\n",
      "   1.00000000000e-06   3.07424406560e+06   3.07424406560e+06   4.41452298932e-04\n",
      "   1.00000000000e-07   3.07424406560e+06   3.07424406595e+06   4.57432402570e-03\n",
      "   1.00000000000e-08   3.07424406560e+06   3.07424407386e+06   3.21850662253e-02\n",
      "   1.00000000000e-09   3.07424406560e+06   3.07424400657e+06   3.56658823519e-01\n",
      "   1.00000000000e-10   3.07424406560e+06   3.07424511699e+06   5.05117427626e+00\n",
      "   1.00000000000e-11   3.07424406560e+06   3.07426491072e+06   5.10455644467e+01\n",
      "   1.00000000000e-12   3.07424406560e+06   3.07439599407e+06   4.66709495892e+02\n",
      "\n",
      "Test Consistency of Jacobian and its adjoint: \n",
      "  |<w,Jv> - <adj(J)w,v>| = 9.31322575e-10\n",
      "  |<w,Jv>|               = 2.33049870e+06\n",
      "  Relative Error         = 3.99623726e-16\n",
      "           Step size   norm(adj(H)(u,v))     norm(FD approx)     norm(abs error)\n",
      "           ---------   -----------------     ---------------     ---------------\n",
      "   1.00000000000e+00   0.00000000000e+00   0.00000000000e+00   0.00000000000e+00\n",
      "   1.00000000000e-01   0.00000000000e+00   0.00000000000e+00   0.00000000000e+00\n",
      "   1.00000000000e-02   0.00000000000e+00   0.00000000000e+00   0.00000000000e+00\n",
      "   1.00000000000e-03   0.00000000000e+00   0.00000000000e+00   0.00000000000e+00\n",
      "   1.00000000000e-04   0.00000000000e+00   0.00000000000e+00   0.00000000000e+00\n",
      "   1.00000000000e-05   0.00000000000e+00   0.00000000000e+00   0.00000000000e+00\n",
      "   1.00000000000e-06   0.00000000000e+00   0.00000000000e+00   0.00000000000e+00\n",
      "   1.00000000000e-07   0.00000000000e+00   0.00000000000e+00   0.00000000000e+00\n",
      "   1.00000000000e-08   0.00000000000e+00   0.00000000000e+00   0.00000000000e+00\n",
      "   1.00000000000e-09   0.00000000000e+00   0.00000000000e+00   0.00000000000e+00\n",
      "   1.00000000000e-10   0.00000000000e+00   0.00000000000e+00   0.00000000000e+00\n",
      "   1.00000000000e-11   0.00000000000e+00   0.00000000000e+00   0.00000000000e+00\n",
      "   1.00000000000e-12   0.00000000000e+00   0.00000000000e+00   0.00000000000e+00\n",
      "\n",
      "Composite-Step Trust-Region Solver (Type E, Equality Constraints)\n",
      "  iter  fval           cnorm          gLnorm         snorm          delta     nnorm     tnorm     #fval   #grad   iterCG  flagCG  accept  linsys  \n",
      "  0     -2.908406e+01  5.679992e+06   2.207158e+01   ---            ---       ---       ---       ---     ---     ---     ---     ---     ---     \n",
      "  1     -5.890364e+00  5.100877e-05   5.795217e-02   1.000862e+02   7.01e+02  4.15e+00  1.00e+02  3       3       1       3       1       6/141\n",
      "  2     -4.341841e+01  3.699792e-06   4.917846e-02   7.006036e+02   4.90e+03  1.32e-10  7.01e+02  5       5       1       3       1       11/238\n",
      "  3     -1.399809e+02  1.633720e-05   3.073174e-05   3.927024e+03   2.75e+04  6.39e-11  3.93e+03  7       7       2       0       1       18/396\n",
      "Optimal average mechanical power: -139.98091445983306 W  4     -1.399809e+02  3.063808e-09   2.418536e-07   1.133359e+00   2.75e+04  8.45e-10  1.13e+00  9       9       3       0       1       26/643\n",
      "Optimization Terminated with Status: Converged\n",
      "\n"
     ]
    }
   ],
   "source": [
    "results = wec.solve(\n",
    "    waves,\n",
    "    obj_fun,\n",
    "    nstate_opt,\n",
    "    )\n",
    "\n",
    "opt_mechanical_average_power = results[0]['f']\n",
    "print(f'Optimal average mechanical power: {opt_mechanical_average_power} W')"
   ]
  },
  {
   "cell_type": "markdown",
   "metadata": {},
   "source": [
    "### Analyzing results"
   ]
  },
  {
   "cell_type": "code",
   "execution_count": 6,
   "metadata": {},
   "outputs": [
    {
     "data": {
      "text/plain": [
       "[{'x': array([-2.16798125e-05,  1.66246828e-01, -2.25297848e-01, -1.33222976e-12,\n",
       "          5.35288716e-13,  7.10398479e-10,  5.99716482e-11, -1.20361476e-07,\n",
       "          4.12181580e-07, -8.08319844e-07, -4.84792579e-06, -2.95984858e-06,\n",
       "          3.28245550e-06,  2.82538917e-06, -4.62195628e-06, -5.07458223e-06,\n",
       "         -1.20754087e-06,  1.59237512e-07,  1.09504184e-06, -2.01271214e-06,\n",
       "         -5.28836260e-01,  2.36280187e+03, -4.09546786e+03, -5.17067703e-09,\n",
       "         -7.27611051e-09, -1.56892527e-05,  3.75122956e-07,  7.23291555e-03,\n",
       "         -2.78359909e-02,  1.02235572e-01,  5.95740395e-01,  5.65844786e-01,\n",
       "         -6.27518699e-01, -7.67762434e-01,  1.25630419e+00,  1.84795186e+00,\n",
       "          4.39736178e-01, -7.46595857e-02, -5.13417782e-01,  1.17905071e+00]),\n",
       "  'f': -139.98091445983306}]"
      ]
     },
     "execution_count": 6,
     "metadata": {},
     "output_type": "execute_result"
    }
   ],
   "source": [
    "results"
   ]
  },
  {
   "cell_type": "code",
   "execution_count": null,
   "metadata": {},
   "outputs": [],
   "source": []
  }
 ],
 "metadata": {
  "kernelspec": {
   "display_name": "wot_dev",
   "language": "python",
   "name": "python3"
  },
  "language_info": {
   "codemirror_mode": {
    "name": "ipython",
    "version": 3
   },
   "file_extension": ".py",
   "mimetype": "text/x-python",
   "name": "python",
   "nbconvert_exporter": "python",
   "pygments_lexer": "ipython3",
   "version": "3.10.14"
  },
  "vscode": {
   "interpreter": {
    "hash": "a3e13d9eb6391ec8c830b5b864d7e2cac256aef786c5e95ba02dc5258710976f"
   }
  }
 },
 "nbformat": 4,
 "nbformat_minor": 2
}
